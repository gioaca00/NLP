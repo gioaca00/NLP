{
  "cells": [
    {
      "attachments": {},
      "cell_type": "markdown",
      "metadata": {
        "id": "Kf49KbBpaJsu"
      },
      "source": [
        "# Assignment 1 – Backprop"
      ]
    },
    {
      "cell_type": "code",
      "execution_count": null,
      "metadata": {
        "colab": {
          "base_uri": "https://localhost:8080/"
        },
        "id": "wAhpRJSCgCh4",
        "outputId": "9a3934be-671f-4b22-91a2-74201f5d61e3"
      },
      "outputs": [
        {
          "name": "stdout",
          "output_type": "stream",
          "text": [
            "Cloning into 'intro-nlp-f22'...\n",
            "warning: redirecting to https://github.com/rycolab/intro-nlp-f22.git/\n",
            "remote: Enumerating objects: 32, done.\u001b[K\n",
            "remote: Counting objects: 100% (32/32), done.\u001b[K\n",
            "remote: Compressing objects: 100% (23/23), done.\u001b[K\n",
            "remote: Total 32 (delta 6), reused 30 (delta 4), pack-reused 0\u001b[K\n",
            "Unpacking objects: 100% (32/32), done.\n"
          ]
        }
      ],
      "source": [
        "#@title Library Imports\n",
        "\n",
        "import importlib \n",
        "!git clone https://www.github.com/rycolab/intro-nlp-f22.git\n",
        "utils = importlib.import_module(\"intro-nlp-f22.assignment_1.utils\")\n",
        "\n",
        "import re\n",
        "import random\n",
        "from collections import defaultdict\n",
        "import itertools\n",
        "from abc import ABC, abstractmethod\n",
        "import math"
      ]
    },
    {
      "cell_type": "code",
      "execution_count": null,
      "metadata": {
        "colab": {
          "base_uri": "https://localhost:8080/"
        },
        "id": "awwwql_ii0y0",
        "outputId": "10bd309e-4e90-48c6-bdd8-92bbab4fd29c"
      },
      "outputs": [
        {
          "name": "stdout",
          "output_type": "stream",
          "text": [
            "{'problem': 'z + sin(x^(2) + (y * exp(z)))', 'in_vars': {'x': 2.0, 'y': -1.0, 'z': 0.0}, 'output': 0.14, 'derivative': {'x': -3.96, 'y': -0.99, 'z': 1.99}}\n",
            "['z', '+', ['sin', [['x', '^', 2], '+', ['y', '*', ['exp', 'z']]]]] {'x': 2.0, 'y': -1.0, 'z': 0.0}\n"
          ]
        }
      ],
      "source": [
        "#@title Select and Parse Math Problems\n",
        "\n",
        "#@markdown select math problem\n",
        "\n",
        "math_problem_i = \"3\" #@param [0,1,2,3]\n",
        "math_problem = utils.MATH_PROBLEMS[int(math_problem_i)]\n",
        "print(math_problem)\n",
        "\n",
        "parser = utils.Parser()\n",
        "infix, in_vars = parser.parse(math_problem[\"problem\"], in_vars = math_problem[\"in_vars\"])\n",
        "print(infix, in_vars)"
      ]
    },
    {
      "cell_type": "code",
      "execution_count": null,
      "metadata": {
        "colab": {
          "base_uri": "https://localhost:8080/"
        },
        "id": "gEY0OEr4X2sO",
        "outputId": "bc94bd7c-85c8-4dbb-ba9f-1f25183ead23"
      },
      "outputs": [
        {
          "name": "stdout",
          "output_type": "stream",
          "text": [
            "{'ψ': ['z', ['z', '+', ['sin', [['x', '^', 2], '+', ['y', '*', ['exp', 'z']]]]], '+'], 'χ': [\"['sin', [['x', '^', 2], '+', ['y', '*', ['exp', 'z']]]]\", ['z', '+', ['sin', [['x', '^', 2], '+', ['y', '*', ['exp', 'z']]]]], '+'], 'φ': [\"[['x', '^', 2], '+', ['y', '*', ['exp', 'z']]]\", ['sin', [['x', '^', 2], '+', ['y', '*', ['exp', 'z']]]], 'sin'], 'υ': [\"['x', '^', 2]\", [['x', '^', 2], '+', ['y', '*', ['exp', 'z']]], '+'], 'τ': [\"['y', '*', ['exp', 'z']]\", [['x', '^', 2], '+', ['y', '*', ['exp', 'z']]], '+'], 'σ': ['x', ['x', '^', 2], '^'], 'ς': ['2', ['x', '^', 2], '^'], 'ρ': ['y', ['y', '*', ['exp', 'z']], '*'], 'π': [\"['exp', 'z']\", ['y', '*', ['exp', 'z']], '*'], 'ο': ['z', ['exp', 'z'], 'exp']}\n"
          ]
        }
      ],
      "source": [
        "#@title 1: Building\n",
        "\n",
        "class Builder():\n",
        "\n",
        "    def __init__(self, infix: list, in_vars: dict = {}):\n",
        "        \"\"\"\n",
        "        infix: list of infix notation parse, e.g. [['exp', 2], '-', 3]\n",
        "        in_vars: dict of input variables to ensure they are not used as intermediate or output variables\n",
        "        RETURN: computation graph in a data structure of your choosing\n",
        "        \"\"\"\n",
        "\n",
        "        ## some alphabetical vars to use as intermediate and output variables minus the input vars to avoid duplicates\n",
        "        avail_vars = list(map(chr, range(97, 123))) + list(map(chr, range(945, 969)))\n",
        "        if len(in_vars.keys()) > 0:\n",
        "            avail_vars = set(avail_vars) - set(in_vars)\n",
        "        self.avail_vars = sorted(list(set(avail_vars)), reverse=True)\n",
        "\n",
        "        self.infix = infix\n",
        "\n",
        "        operations = [\"log\", \"exp\", \"+\", \"-\", \"^\", \"sin\", \"cos\", \"*\", \"/\"]\n",
        "        graph = {}\n",
        "        graph2 = {}\n",
        "        infix2 = [infix]\n",
        "        k = 0\n",
        "        i = 0\n",
        "        while i<len(infix2):\n",
        "          temp = infix2[i]\n",
        "          for el in temp:\n",
        "            if isinstance(el, list):\n",
        "              infix2 = infix2 + [el]\n",
        "            if el not in operations:\n",
        "              for el2 in temp:\n",
        "                if el2 in operations:\n",
        "                  graph[self.avail_vars[k]] = [str(el),temp, el2]\n",
        "                  k = k + 1\n",
        "          i = i + 1\n",
        "\n",
        "        self.graph = graph\n",
        "\n",
        "if __name__ == '__main__':\n",
        "\n",
        "    g = Builder(infix, in_vars)\n",
        "    print(g.graph)"
      ]
    },
    {
      "cell_type": "code",
      "execution_count": null,
      "metadata": {
        "id": "FqYDZ0rvZQVr"
      },
      "outputs": [],
      "source": [
        "#@title 2: Operations\n",
        "\n",
        "class Operator(ABC):\n",
        "\n",
        "    @abstractmethod\n",
        "    def f(self, a, b = None) -> float:\n",
        "        raise NotImplementedError()\n",
        "        return f_res\n",
        "\n",
        "    @abstractmethod\n",
        "    def df(self, a, b = None) -> list:\n",
        "        raise NotImplementedError()\n",
        "        return [df_res]\n",
        "\n",
        "class Exp(Operator):\n",
        "\n",
        "    def f(self, a, b = None):\n",
        "        return math.exp(a)\n",
        "\n",
        "    def df(self, a, b = None):\n",
        "        return [math.exp(a)]\n",
        "\n",
        "class Log(Operator):\n",
        "    ## natural logarithm\n",
        "\n",
        "    def f(self, a, b = None):\n",
        "        return math.log(a)\n",
        "\n",
        "    def df(self, a, b = None):\n",
        "        return [1 / a]\n",
        "\n",
        "class Mult(Operator):\n",
        "\n",
        "    def f(self, a, b):\n",
        "        return a * b\n",
        "\n",
        "    def df(self, a, b):\n",
        "        return [b, a]\n",
        "\n",
        "class Div(Operator):\n",
        "\n",
        "    def f(self, a, b):\n",
        "        return a / b\n",
        "\n",
        "    def df(self, a, b):\n",
        "        return [1 / b, -a / (b**2)]\n",
        "\n",
        "class Add(Operator):\n",
        "\n",
        "    def f(self, a, b):\n",
        "        return a + b\n",
        "\n",
        "    def df(self, a, b):\n",
        "        return [1, 1]\n",
        "\n",
        "class Sub(Operator):\n",
        "\n",
        "    def f(self, a, b):\n",
        "        return a - b\n",
        "\n",
        "    def df(self, a, b):\n",
        "        return [1, -1]\n",
        "\n",
        "class Pow(Operator):\n",
        "\n",
        "    def f(self, a, b):\n",
        "        return a**b\n",
        "\n",
        "    def df(self, a, b):\n",
        "        if a <= 0: ## work-around: treat as unary operation if -a^b\n",
        "            return [b * (a ** (b - 1))]\n",
        "        else:\n",
        "            return [b * (a ** (b - 1)), (a ** b) * math.log(a)]\n",
        "\n",
        "class Sin(Operator):\n",
        "\n",
        "    def f(self, a, b=None):\n",
        "        return math.sin(a)\n",
        "\n",
        "    def df(self, a, b=None):\n",
        "        return [math.cos(a)]\n",
        "\n",
        "class Cos(Operator):\n",
        "\n",
        "    def f(self, a, b=None):\n",
        "        return math.cos(a)\n",
        "\n",
        "    def df(self, a, b=None):\n",
        "        return [-math.sin(a)]"
      ]
    },
    {
      "cell_type": "code",
      "execution_count": null,
      "metadata": {
        "colab": {
          "base_uri": "https://localhost:8080/"
        },
        "id": "l965tc0PZD1y",
        "outputId": "fe43b04f-4c0a-49fa-f9c2-b87e47003f5c"
      },
      "outputs": [
        {
          "name": "stdout",
          "output_type": "stream",
          "text": [
            "0.1411200080598672\n",
            "{'x': -3.9599699864017817, 'y': -0.9899924966004454, 'z': 1.9899924966004454}\n"
          ]
        }
      ],
      "source": [
        "#@title 3: Executing\n",
        "\n",
        "class Executor():\n",
        "\n",
        "    def __init__(self, graph: dict, in_vars: dict = {}):\n",
        "        \"\"\"\n",
        "        graph: computation graph in a data structure of your choosing\n",
        "        in_vars: dict of input variables, e.g. {\"x\": 2.0, \"y\": -1.0}\n",
        "        \"\"\"\n",
        "        self.graph = graph\n",
        "        self.in_vars = in_vars\n",
        "        self.fn_map = {\"log\": Log(), \"exp\": Exp(), \"+\": Add(), \"-\": Sub(), \"^\": Pow(), \"sin\": Sin(), \"cos\": Cos(), \"*\": Mult(), \"/\": Div()}\n",
        "        self.output = -1\n",
        "        self.derivative = {}\n",
        "\n",
        "    ## forward execution____________________________\n",
        "    def forward(self, ):\n",
        "        in_vars = self.in_vars\n",
        "        operations = self.fn_map\n",
        "        graph = self.graph\n",
        "        results = {}\n",
        "        results.update(in_vars)\n",
        "        chiavi = sorted(graph.keys())\n",
        "        flag = 0\n",
        "        for el in chiavi:\n",
        "          if len(graph[el][1])>2: # if the operation has two inputs\n",
        "            for el2 in graph[el][1]:\n",
        "              if el2 != graph[el][0] and str(el2) not in operations: # look for second input\n",
        "                if isinstance(graph[el][0],int) and isinstance(el2,int):\n",
        "                  results[str(graph[el][1])] = operations[graph[el][2]].f(int(graph[el][0]),int(el2))\n",
        "                elif str(el2) in results.keys() or isinstance(el2, list): # if second input is variable/list\n",
        "                  if str(graph[el][0]) in results.keys():\n",
        "                    results[str(graph[el][1])] = operations[graph[el][2]].f(results[str(graph[el][0])],results[str(el2)])\n",
        "                  else:\n",
        "                    results[str(graph[el][1])] = operations[graph[el][2]].f(eval(graph[el][0]),results[str(el2)]) #float\n",
        "                elif isinstance(el2, float) or isinstance(el2, int): # if second input is a float\n",
        "                  if str(graph[el][0]) in results.keys():\n",
        "                    results[str(graph[el][1])] = operations[graph[el][2]].f(results[str(graph[el][0])],el2)\n",
        "                  else:\n",
        "                    results[str(graph[el][1])] = operations[graph[el][2]].f(eval(graph[el][0]),el2) #float\n",
        "          else: # if the operation has one input\n",
        "            if str(graph[el][0]) in results.keys():\n",
        "              results[str(graph[el][1])] = self.fn_map[graph[el][2]].f(results[graph[el][0]])\n",
        "            else:\n",
        "              results[str(graph[el][1])] = self.fn_map[graph[el][2]].f(eval(graph[el][0])) #float\n",
        "        self.results = results\n",
        "        self.output = results[str(self.graph[el][1])]\n",
        "   \n",
        "    ## backward execution____________________________\n",
        "    def backward(self, ):\n",
        "        in_vars = self.in_vars\n",
        "        results = self.results\n",
        "        deriv = {}\n",
        "        lst = []\n",
        "        for el in results.keys():\n",
        "          lst.insert(0,el)\n",
        "          deriv[el] = 0\n",
        "        deriv[lst[0]] = 1\n",
        "        for el in lst: \n",
        "          if el not in in_vars.keys():\n",
        "            el = eval(el)\n",
        "          if len(el) == 3:\n",
        "            el0 = str(el[0])\n",
        "            el2 = str(el[2])\n",
        "            if isinstance(el[0],list)==False and el[0] not in results:\n",
        "              results[el0] = eval(el0)\n",
        "              deriv[el0] = eval(el0)\n",
        "            if isinstance(el[2],list)==False and el[2] not in results:\n",
        "              results[el2] = eval(el2)\n",
        "              deriv[el2] = eval(el2)\n",
        "            deriv[str(el[0])] += deriv[str(el)] * self.fn_map[el[1]].df(results[str(el[0])],results[str(el[2])])[0]\n",
        "            deriv[str(el[2])] += deriv[str(el)] * self.fn_map[el[1]].df(results[str(el[0])],results[str(el[2])])[1]\n",
        "          elif len(el) == 2:\n",
        "            if el[0] in results.keys():\n",
        "              deriv[str(el[0])] += deriv[str(el)] * self.fn_map[str(el[1])].df(results[str(el[0])])[0]\n",
        "            else:\n",
        "              deriv[str(el[1])] += deriv[str(el)] * self.fn_map[str(el[0])].df(results[str(el[1])])[0]\n",
        "          else:\n",
        "            True \n",
        "\n",
        "        gradient = {}\n",
        "        for el in in_vars:\n",
        "          gradient[el] = deriv[el]\n",
        "        self.derivative = gradient\n",
        "\n",
        "if __name__ == '__main__':\n",
        "  e = Executor(g.graph, in_vars=in_vars)\n",
        "  e.forward()\n",
        "  e.backward()\n",
        "  print(e.output)\n",
        "  print(e.derivative)"
      ]
    },
    {
      "cell_type": "code",
      "execution_count": null,
      "metadata": {
        "colab": {
          "base_uri": "https://localhost:8080/"
        },
        "id": "lw-g9g_Avox_",
        "outputId": "004ce523-02a7-49a0-94f5-cd1b5e6ecfe7"
      },
      "outputs": [
        {
          "name": "stdout",
          "output_type": "stream",
          "text": [
            "\n",
            "0: problem: z + sin(x^(2) + (y * exp(z))), in_vars: {'x': 2.0, 'y': -1.0, 'z': 0.0}\n",
            "SUCCESS output: 0.14\n",
            "SUCCESS derivative: {'x': -3.96, 'y': -0.99, 'z': 1.99}\n"
          ]
        }
      ],
      "source": [
        "#@title Test Function for Debugging\n",
        "\n",
        "utils.test_backprop(Builder, Executor, math_problem)"
      ]
    },
    {
      "cell_type": "code",
      "execution_count": null,
      "metadata": {
        "colab": {
          "base_uri": "https://localhost:8080/"
        },
        "id": "d4qAd9lBtSmX",
        "outputId": "6b7ecb18-bdd3-457f-852f-21ad5a92cff1"
      },
      "outputs": [
        {
          "name": "stdout",
          "output_type": "stream",
          "text": [
            "\n",
            "0: problem: x/y, in_vars: {'x': 1.0, 'y': 1.0}\n",
            "SUCCESS output: 1.0\n",
            "SUCCESS derivative: {'x': 1.0, 'y': -1.0}\n",
            "\n",
            "1: problem: exp(x) - (y * 2), in_vars: {'x': 2.0, 'y': -2.0}\n",
            "SUCCESS output: 11.39\n",
            "SUCCESS derivative: {'x': 7.39, 'y': -2}\n",
            "\n",
            "2: problem: (x^2 - 1) * (y+2), in_vars: {'x': 3.0, 'y': 2.0}\n",
            "SUCCESS output: 32.0\n",
            "SUCCESS derivative: {'x': 24.0, 'y': 8.0}\n",
            "\n",
            "3: problem: z + sin(x^(2) + (y * exp(z))), in_vars: {'x': 2.0, 'y': -1.0, 'z': 0.0}\n",
            "SUCCESS output: 0.14\n",
            "SUCCESS derivative: {'x': -3.96, 'y': -0.99, 'z': 1.99}\n"
          ]
        }
      ],
      "source": [
        "#@title Test Function for Grading\n",
        "\n",
        "utils.test_backprop(Builder, Executor)"
      ]
    }
  ],
  "metadata": {
    "colab": {
      "provenance": []
    },
    "kernelspec": {
      "display_name": "Python 3",
      "name": "python3"
    },
    "language_info": {
      "name": "python"
    }
  },
  "nbformat": 4,
  "nbformat_minor": 0
}
